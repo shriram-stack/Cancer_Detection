{
  "nbformat": 4,
  "nbformat_minor": 0,
  "metadata": {
    "colab": {
      "provenance": [],
      "authorship_tag": "ABX9TyO4+SjWXnS1ipdZI7/qii2N",
      "include_colab_link": true
    },
    "kernelspec": {
      "name": "python3",
      "display_name": "Python 3"
    },
    "language_info": {
      "name": "python"
    }
  },
  "cells": [
    {
      "cell_type": "markdown",
      "metadata": {
        "id": "view-in-github",
        "colab_type": "text"
      },
      "source": [
        "<a href=\"https://colab.research.google.com/github/shriram-stack/Cancer_Detection/blob/main/IRIS_damage_prediction_using_CNN_and_Image_processing.ipynb\" target=\"_parent\"><img src=\"https://colab.research.google.com/assets/colab-badge.svg\" alt=\"Open In Colab\"/></a>"
      ]
    },
    {
      "cell_type": "code",
      "execution_count": null,
      "metadata": {
        "id": "ggyrmI-ckYsD"
      },
      "outputs": [],
      "source": [
        "# Import necessary libraries\n",
        "import numpy as np\n",
        "import tensorflow as tf\n",
        "from tensorflow.keras import layers, models\n",
        "from tensorflow.keras.preprocessing.image import ImageDataGenerator\n",
        "import cv2\n",
        "import matplotlib.pyplot as plt\n",
        "from sklearn.model_selection import train_test_split\n",
        "from sklearn.metrics import classification_report, confusion_matrix\n",
        "import os\n",
        "\n",
        "# Check TensorFlow version\n",
        "print(\"TensorFlow Version:\", tf.__version__)\n",
        "\n",
        "# Mount Google Drive (optional, if your dataset is stored there)\n",
        "from google.colab import drive\n",
        "drive.mount('/content/drive')"
      ]
    },
    {
      "cell_type": "code",
      "source": [
        "# Simulate a small dataset (replace this with your actual iris image dataset)\n",
        "def generate_synthetic_iris_images(num_images, img_size=(128, 128)):\n",
        "    images = []\n",
        "    labels = []  # 0: no damage, 1: damaged\n",
        "    for _ in range(num_images):\n",
        "        # Randomly generate an \"iris-like\" image\n",
        "        img = np.random.rand(img_size[0], img_size[1], 3) * 255\n",
        "        img = img.astype(np.uint8)\n",
        "        label = np.random.randint(0, 2)  # Binary classification\n",
        "        images.append(img)\n",
        "        labels.append(label)\n",
        "    return np.array(images), np.array(labels)\n",
        "\n",
        "# Generate synthetic data\n",
        "num_images = 100  # Increase this with real data\n",
        "X, y = generate_synthetic_iris_images(num_images)\n",
        "\n",
        "# Preprocessing function\n",
        "def preprocess_image(img):\n",
        "    # Noise reduction (Gaussian blur)\n",
        "    img = cv2.GaussianBlur(img, (5, 5), 0)\n",
        "    # Contrast enhancement (CLAHE)\n",
        "    if len(img.shape) == 3:\n",
        "        img_lab = cv2.cvtColor(img, cv2.COLOR_RGB2LAB)\n",
        "        clahe = cv2.createCLAHE(clipLimit=2.0, tileGridSize=(8, 8))\n",
        "        img_lab[:,:,0] = clahe.apply(img_lab[:,:,0])\n",
        "        img = cv2.cvtColor(img_lab, cv2.COLOR_LAB2RGB)\n",
        "    # Normalization\n",
        "    img = img / 255.0\n",
        "    return img\n",
        "\n",
        "# Apply preprocessing to all images\n",
        "X_processed = np.array([preprocess_image(img) for img in X])\n",
        "\n",
        "# Split into training and validation sets\n",
        "X_train, X_val, y_train, y_val = train_test_split(X_processed, y, test_size=0.2, random_state=42)\n",
        "\n",
        "print(\"Training set shape:\", X_train.shape)\n",
        "print(\"Validation set shape:\", X_val.shape)"
      ],
      "metadata": {
        "id": "_ntCyq8PkbUt"
      },
      "execution_count": null,
      "outputs": []
    },
    {
      "cell_type": "code",
      "source": [
        "# Define the CNN model\n",
        "def create_cnn_model(input_shape=(128, 128, 3)):\n",
        "    model = models.Sequential([\n",
        "        layers.Conv2D(32, (3, 3), activation='relu', input_shape=input_shape),\n",
        "        layers.MaxPooling2D((2, 2)),\n",
        "        layers.Conv2D(64, (3, 3), activation='relu'),\n",
        "        layers.MaxPooling2D((2, 2)),\n",
        "        layers.Conv2D(128, (3, 3), activation='relu'),\n",
        "        layers.MaxPooling2D((2, 2)),\n",
        "        layers.Flatten(),\n",
        "        layers.Dense(128, activation='relu'),\n",
        "        layers.Dropout(0.5),\n",
        "        layers.Dense(1, activation='sigmoid')  # Binary classification\n",
        "    ])\n",
        "    return model\n",
        "\n",
        "# Create and compile the model\n",
        "model = create_cnn_model()\n",
        "model.compile(optimizer='adam', loss='binary_crossentropy', metrics=['accuracy'])\n",
        "\n",
        "# Model summary\n",
        "model.summary()"
      ],
      "metadata": {
        "id": "hXY4vZIAke6B"
      },
      "execution_count": null,
      "outputs": []
    },
    {
      "cell_type": "code",
      "source": [
        "# Data augmentation (optional, to improve generalization)\n",
        "datagen = ImageDataGenerator(rotation_range=20, zoom_range=0.15, horizontal_flip=True)\n",
        "datagen.fit(X_train)\n",
        "\n",
        "# Train the model\n",
        "history = model.fit(datagen.flow(X_train, y_train, batch_size=32),\n",
        "                    epochs=10,  # Increase epochs for real data\n",
        "                    validation_data=(X_val, y_val))\n",
        "\n",
        "# Plot training history\n",
        "plt.plot(history.history['accuracy'], label='Training Accuracy')\n",
        "plt.plot(history.history['val_accuracy'], label='Validation Accuracy')\n",
        "plt.title('Model Accuracy')\n",
        "plt.xlabel('Epoch')\n",
        "plt.ylabel('Accuracy')\n",
        "plt.legend()\n",
        "plt.show()"
      ],
      "metadata": {
        "id": "iHyx1kRekhIs"
      },
      "execution_count": null,
      "outputs": []
    },
    {
      "cell_type": "code",
      "source": [
        "# Evaluate CNN model\n",
        "y_pred_cnn = (model.predict(X_val) > 0.5).astype(int)\n",
        "print(\"CNN Classification Report:\")\n",
        "print(classification_report(y_val, y_pred_cnn))\n",
        "\n",
        "# SVM comparison\n",
        "from sklearn.svm import SVC\n",
        "from sklearn.metrics import accuracy_score\n",
        "\n",
        "# Flatten images for SVM\n",
        "X_train_flat = X_train.reshape(X_train.shape[0], -1)\n",
        "X_val_flat = X_val.reshape(X_val.shape[0], -1)\n",
        "\n",
        "svm = SVC(kernel='linear')\n",
        "svm.fit(X_train_flat, y_train)\n",
        "y_pred_svm = svm.predict(X_val_flat)\n",
        "print(\"SVM Classification Report:\")\n",
        "print(classification_report(y_val, y_pred_svm))\n",
        "\n",
        "# Random Forest (optional, uncomment to use)\n",
        "# from sklearn.ensemble import RandomForestClassifier\n",
        "# rf = RandomForestClassifier(n_estimators=100)\n",
        "# rf.fit(X_train_flat, y_train)\n",
        "# y_pred_rf = rf.predict(X_val_flat)\n",
        "# print(\"Random Forest Classification Report:\")\n",
        "# print(classification_report(y_val, y_pred_rf))"
      ],
      "metadata": {
        "id": "xKepKckWkjOk"
      },
      "execution_count": null,
      "outputs": []
    },
    {
      "cell_type": "code",
      "source": [
        "# Save the CNN model\n",
        "model.save('/content/drive/MyDrive/iris_damage_cnn_model.h5')\n",
        "print(\"Model saved successfully!\")"
      ],
      "metadata": {
        "id": "p7UH2kI0klNs"
      },
      "execution_count": null,
      "outputs": []
    },
    {
      "cell_type": "markdown",
      "source": [],
      "metadata": {
        "id": "mFdcTvcf_H7t"
      }
    }
  ]
}